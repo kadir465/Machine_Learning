{
 "cells": [
  {
   "cell_type": "code",
   "execution_count": 3,
   "id": "acd1e91c",
   "metadata": {},
   "outputs": [],
   "source": [
    "import pandas as pd\n",
    "import numpy as np\n",
    "import matplotlib.pyplot as plt\n",
    "import seaborn as sns\n"
   ]
  },
  {
   "cell_type": "code",
   "execution_count": 15,
   "id": "bc9486ed",
   "metadata": {},
   "outputs": [],
   "source": [
    "from ucimlrepo import fetch_ucirepo \n",
    "  \n",
    "# fetch dataset \n",
    "breast_cancer_wisconsin_diagnostic = fetch_ucirepo(id=17) \n",
    "  \n",
    "# data (as pandas dataframes) \n",
    "X = breast_cancer_wisconsin_diagnostic.data.features \n",
    "y = breast_cancer_wisconsin_diagnostic.data.targets \n",
    "  \n",
    "dataset=pd.concat([X, y], axis=1)\n"
   ]
  },
  {
   "cell_type": "code",
   "execution_count": 16,
   "id": "a534ad22",
   "metadata": {},
   "outputs": [
    {
     "name": "stdout",
     "output_type": "stream",
     "text": [
      "Index(['radius1', 'texture1', 'perimeter1', 'area1', 'smoothness1',\n",
      "       'compactness1', 'concavity1', 'concave_points1', 'symmetry1',\n",
      "       'fractal_dimension1', 'radius2', 'texture2', 'perimeter2', 'area2',\n",
      "       'smoothness2', 'compactness2', 'concavity2', 'concave_points2',\n",
      "       'symmetry2', 'fractal_dimension2', 'radius3', 'texture3', 'perimeter3',\n",
      "       'area3', 'smoothness3', 'compactness3', 'concavity3', 'concave_points3',\n",
      "       'symmetry3', 'fractal_dimension3', 'Diagnosis'],\n",
      "      dtype='object')\n",
      "<class 'pandas.core.frame.DataFrame'>\n",
      "RangeIndex: 569 entries, 0 to 568\n",
      "Data columns (total 31 columns):\n",
      " #   Column              Non-Null Count  Dtype  \n",
      "---  ------              --------------  -----  \n",
      " 0   radius1             569 non-null    float64\n",
      " 1   texture1            569 non-null    float64\n",
      " 2   perimeter1          569 non-null    float64\n",
      " 3   area1               569 non-null    float64\n",
      " 4   smoothness1         569 non-null    float64\n",
      " 5   compactness1        569 non-null    float64\n",
      " 6   concavity1          569 non-null    float64\n",
      " 7   concave_points1     569 non-null    float64\n",
      " 8   symmetry1           569 non-null    float64\n",
      " 9   fractal_dimension1  569 non-null    float64\n",
      " 10  radius2             569 non-null    float64\n",
      " 11  texture2            569 non-null    float64\n",
      " 12  perimeter2          569 non-null    float64\n",
      " 13  area2               569 non-null    float64\n",
      " 14  smoothness2         569 non-null    float64\n",
      " 15  compactness2        569 non-null    float64\n",
      " 16  concavity2          569 non-null    float64\n",
      " 17  concave_points2     569 non-null    float64\n",
      " 18  symmetry2           569 non-null    float64\n",
      " 19  fractal_dimension2  569 non-null    float64\n",
      " 20  radius3             569 non-null    float64\n",
      " 21  texture3            569 non-null    float64\n",
      " 22  perimeter3          569 non-null    float64\n",
      " 23  area3               569 non-null    float64\n",
      " 24  smoothness3         569 non-null    float64\n",
      " 25  compactness3        569 non-null    float64\n",
      " 26  concavity3          569 non-null    float64\n",
      " 27  concave_points3     569 non-null    float64\n",
      " 28  symmetry3           569 non-null    float64\n",
      " 29  fractal_dimension3  569 non-null    float64\n",
      " 30  Diagnosis           569 non-null    object \n",
      "dtypes: float64(30), object(1)\n",
      "memory usage: 137.9+ KB\n",
      "None\n",
      "          radius1    texture1  perimeter1        area1  smoothness1  \\\n",
      "count  569.000000  569.000000  569.000000   569.000000   569.000000   \n",
      "mean    14.127292   19.289649   91.969033   654.889104     0.096360   \n",
      "std      3.524049    4.301036   24.298981   351.914129     0.014064   \n",
      "min      6.981000    9.710000   43.790000   143.500000     0.052630   \n",
      "25%     11.700000   16.170000   75.170000   420.300000     0.086370   \n",
      "50%     13.370000   18.840000   86.240000   551.100000     0.095870   \n",
      "75%     15.780000   21.800000  104.100000   782.700000     0.105300   \n",
      "max     28.110000   39.280000  188.500000  2501.000000     0.163400   \n",
      "\n",
      "       compactness1  concavity1  concave_points1   symmetry1  \\\n",
      "count    569.000000  569.000000       569.000000  569.000000   \n",
      "mean       0.104341    0.088799         0.048919    0.181162   \n",
      "std        0.052813    0.079720         0.038803    0.027414   \n",
      "min        0.019380    0.000000         0.000000    0.106000   \n",
      "25%        0.064920    0.029560         0.020310    0.161900   \n",
      "50%        0.092630    0.061540         0.033500    0.179200   \n",
      "75%        0.130400    0.130700         0.074000    0.195700   \n",
      "max        0.345400    0.426800         0.201200    0.304000   \n",
      "\n",
      "       fractal_dimension1  ...     radius3    texture3  perimeter3  \\\n",
      "count          569.000000  ...  569.000000  569.000000  569.000000   \n",
      "mean             0.062798  ...   16.269190   25.677223  107.261213   \n",
      "std              0.007060  ...    4.833242    6.146258   33.602542   \n",
      "min              0.049960  ...    7.930000   12.020000   50.410000   \n",
      "25%              0.057700  ...   13.010000   21.080000   84.110000   \n",
      "50%              0.061540  ...   14.970000   25.410000   97.660000   \n",
      "75%              0.066120  ...   18.790000   29.720000  125.400000   \n",
      "max              0.097440  ...   36.040000   49.540000  251.200000   \n",
      "\n",
      "             area3  smoothness3  compactness3  concavity3  concave_points3  \\\n",
      "count   569.000000   569.000000    569.000000  569.000000       569.000000   \n",
      "mean    880.583128     0.132369      0.254265    0.272188         0.114606   \n",
      "std     569.356993     0.022832      0.157336    0.208624         0.065732   \n",
      "min     185.200000     0.071170      0.027290    0.000000         0.000000   \n",
      "25%     515.300000     0.116600      0.147200    0.114500         0.064930   \n",
      "50%     686.500000     0.131300      0.211900    0.226700         0.099930   \n",
      "75%    1084.000000     0.146000      0.339100    0.382900         0.161400   \n",
      "max    4254.000000     0.222600      1.058000    1.252000         0.291000   \n",
      "\n",
      "        symmetry3  fractal_dimension3  \n",
      "count  569.000000          569.000000  \n",
      "mean     0.290076            0.083946  \n",
      "std      0.061867            0.018061  \n",
      "min      0.156500            0.055040  \n",
      "25%      0.250400            0.071460  \n",
      "50%      0.282200            0.080040  \n",
      "75%      0.317900            0.092080  \n",
      "max      0.663800            0.207500  \n",
      "\n",
      "[8 rows x 30 columns]\n"
     ]
    }
   ],
   "source": [
    "print(dataset.columns)\n",
    "print(dataset.info())\n",
    "print(dataset.describe())\n"
   ]
  },
  {
   "cell_type": "code",
   "execution_count": 17,
   "id": "be69dbb9",
   "metadata": {},
   "outputs": [
    {
     "name": "stdout",
     "output_type": "stream",
     "text": [
      "radius1               0\n",
      "texture1              0\n",
      "perimeter1            0\n",
      "area1                 0\n",
      "smoothness1           0\n",
      "compactness1          0\n",
      "concavity1            0\n",
      "concave_points1       0\n",
      "symmetry1             0\n",
      "fractal_dimension1    0\n",
      "radius2               0\n",
      "texture2              0\n",
      "perimeter2            0\n",
      "area2                 0\n",
      "smoothness2           0\n",
      "compactness2          0\n",
      "concavity2            0\n",
      "concave_points2       0\n",
      "symmetry2             0\n",
      "fractal_dimension2    0\n",
      "radius3               0\n",
      "texture3              0\n",
      "perimeter3            0\n",
      "area3                 0\n",
      "smoothness3           0\n",
      "compactness3          0\n",
      "concavity3            0\n",
      "concave_points3       0\n",
      "symmetry3             0\n",
      "fractal_dimension3    0\n",
      "Diagnosis             0\n",
      "dtype: int64\n"
     ]
    }
   ],
   "source": [
    "print(dataset.isnull().sum())"
   ]
  },
  {
   "cell_type": "code",
   "execution_count": 18,
   "id": "6bf2e20e",
   "metadata": {},
   "outputs": [
    {
     "name": "stdout",
     "output_type": "stream",
     "text": [
      "   radius1  texture1  perimeter1   area1  smoothness1  compactness1  \\\n",
      "0    17.99     10.38      122.80  1001.0      0.11840       0.27760   \n",
      "1    20.57     17.77      132.90  1326.0      0.08474       0.07864   \n",
      "2    19.69     21.25      130.00  1203.0      0.10960       0.15990   \n",
      "3    11.42     20.38       77.58   386.1      0.14250       0.28390   \n",
      "4    20.29     14.34      135.10  1297.0      0.10030       0.13280   \n",
      "\n",
      "   concavity1  concave_points1  symmetry1  fractal_dimension1  ...  texture3  \\\n",
      "0      0.3001          0.14710     0.2419             0.07871  ...     17.33   \n",
      "1      0.0869          0.07017     0.1812             0.05667  ...     23.41   \n",
      "2      0.1974          0.12790     0.2069             0.05999  ...     25.53   \n",
      "3      0.2414          0.10520     0.2597             0.09744  ...     26.50   \n",
      "4      0.1980          0.10430     0.1809             0.05883  ...     16.67   \n",
      "\n",
      "   perimeter3   area3  smoothness3  compactness3  concavity3  concave_points3  \\\n",
      "0      184.60  2019.0       0.1622        0.6656      0.7119           0.2654   \n",
      "1      158.80  1956.0       0.1238        0.1866      0.2416           0.1860   \n",
      "2      152.50  1709.0       0.1444        0.4245      0.4504           0.2430   \n",
      "3       98.87   567.7       0.2098        0.8663      0.6869           0.2575   \n",
      "4      152.20  1575.0       0.1374        0.2050      0.4000           0.1625   \n",
      "\n",
      "   symmetry3  fractal_dimension3  Diagnosis  \n",
      "0     0.4601             0.11890          M  \n",
      "1     0.2750             0.08902          M  \n",
      "2     0.3613             0.08758          M  \n",
      "3     0.6638             0.17300          M  \n",
      "4     0.2364             0.07678          M  \n",
      "\n",
      "[5 rows x 31 columns]\n"
     ]
    }
   ],
   "source": [
    "print(dataset.head())"
   ]
  },
  {
   "cell_type": "code",
   "execution_count": null,
   "id": "eee90012",
   "metadata": {},
   "outputs": [
    {
     "name": "stdout",
     "output_type": "stream",
     "text": [
      "Index(['Diagnosis'], dtype='object')\n"
     ]
    }
   ],
   "source": [
    "string_cols = dataset.select_dtypes(include=['object']).columns\n",
    "print(string_cols)\n"
   ]
  },
  {
   "cell_type": "code",
   "execution_count": 33,
   "id": "963ccc6a",
   "metadata": {},
   "outputs": [
    {
     "name": "stdout",
     "output_type": "stream",
     "text": [
      "   radius1  texture1  perimeter1   area1  smoothness1  compactness1  \\\n",
      "0    17.99     10.38      122.80  1001.0      0.11840       0.27760   \n",
      "1    20.57     17.77      132.90  1326.0      0.08474       0.07864   \n",
      "2    19.69     21.25      130.00  1203.0      0.10960       0.15990   \n",
      "3    11.42     20.38       77.58   386.1      0.14250       0.28390   \n",
      "4    20.29     14.34      135.10  1297.0      0.10030       0.13280   \n",
      "\n",
      "   concavity1  concave_points1  symmetry1  fractal_dimension1  ...  radius3  \\\n",
      "0      0.3001          0.14710     0.2419             0.07871  ...    25.38   \n",
      "1      0.0869          0.07017     0.1812             0.05667  ...    24.99   \n",
      "2      0.1974          0.12790     0.2069             0.05999  ...    23.57   \n",
      "3      0.2414          0.10520     0.2597             0.09744  ...    14.91   \n",
      "4      0.1980          0.10430     0.1809             0.05883  ...    22.54   \n",
      "\n",
      "   texture3  perimeter3   area3  smoothness3  compactness3  concavity3  \\\n",
      "0     17.33      184.60  2019.0       0.1622        0.6656      0.7119   \n",
      "1     23.41      158.80  1956.0       0.1238        0.1866      0.2416   \n",
      "2     25.53      152.50  1709.0       0.1444        0.4245      0.4504   \n",
      "3     26.50       98.87   567.7       0.2098        0.8663      0.6869   \n",
      "4     16.67      152.20  1575.0       0.1374        0.2050      0.4000   \n",
      "\n",
      "   concave_points3  symmetry3  fractal_dimension3  \n",
      "0           0.2654     0.4601             0.11890  \n",
      "1           0.1860     0.2750             0.08902  \n",
      "2           0.2430     0.3613             0.08758  \n",
      "3           0.2575     0.6638             0.17300  \n",
      "4           0.1625     0.2364             0.07678  \n",
      "\n",
      "[5 rows x 30 columns]\n"
     ]
    }
   ],
   "source": [
    "print(dataset.head())\n",
    "\n"
   ]
  },
  {
   "cell_type": "code",
   "execution_count": null,
   "id": "c755b562",
   "metadata": {},
   "outputs": [],
   "source": []
  }
 ],
 "metadata": {
  "kernelspec": {
   "display_name": ".venv",
   "language": "python",
   "name": ".venv"
  },
  "language_info": {
   "codemirror_mode": {
    "name": "ipython",
    "version": 3
   },
   "file_extension": ".py",
   "mimetype": "text/x-python",
   "name": "python",
   "nbconvert_exporter": "python",
   "pygments_lexer": "ipython3",
   "version": "3.13.7"
  }
 },
 "nbformat": 4,
 "nbformat_minor": 5
}
